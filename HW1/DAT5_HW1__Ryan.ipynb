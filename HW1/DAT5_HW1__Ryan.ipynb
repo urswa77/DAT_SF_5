{
 "metadata": {
  "name": ""
 },
 "nbformat": 3,
 "nbformat_minor": 0,
 "worksheets": [
  {
   "cells": [
    {
     "cell_type": "markdown",
     "metadata": {},
     "source": [
      "\n",
      "#**DAT5 HW1**\n",
      "##-------------------------------------\n",
      "#### Homework from Ryan (2014-03-15)\n",
      "\n",
      "\n",
      "#### -----------------------------------\n",
      "#### Import PANDAS"
     ]
    },
    {
     "cell_type": "code",
     "collapsed": false,
     "input": [
      "import pandas as pd"
     ],
     "language": "python",
     "metadata": {},
     "outputs": [],
     "prompt_number": 2
    },
    {
     "cell_type": "markdown",
     "metadata": {},
     "source": [
      "####Import CSV data from a file"
     ]
    },
    {
     "cell_type": "code",
     "collapsed": false,
     "input": [
      "data = pd.read_csv('data/titanic-train.csv')"
     ],
     "language": "python",
     "metadata": {},
     "outputs": [],
     "prompt_number": 3
    },
    {
     "cell_type": "markdown",
     "metadata": {},
     "source": [
      "**Q1. How many passengers are in our passenger list? From here forward, we\u2019ll **\n",
      "**    assume our dataset represents the full passenger list for the Titanic. **"
     ]
    },
    {
     "cell_type": "markdown",
     "metadata": {},
     "source": [
      "Check out the summary of the table (dataframe), and found out there are 891 records so 891 passengers"
     ]
    },
    {
     "cell_type": "code",
     "collapsed": false,
     "input": [
      "data.info()"
     ],
     "language": "python",
     "metadata": {},
     "outputs": [
      {
       "output_type": "stream",
       "stream": "stdout",
       "text": [
        "<class 'pandas.core.frame.DataFrame'>\n",
        "Int64Index: 891 entries, 0 to 890\n",
        "Data columns (total 12 columns):\n",
        "PassengerId    891 non-null int64\n",
        "Survived       891 non-null int64\n",
        "Pclass         891 non-null int64\n",
        "Name           891 non-null object\n",
        "Sex            891 non-null object\n",
        "Age            714 non-null float64\n",
        "SibSp          891 non-null int64\n",
        "Parch          891 non-null int64\n",
        "Ticket         891 non-null object\n",
        "Fare           891 non-null float64\n",
        "Cabin          204 non-null object\n",
        "Embarked       889 non-null object\n",
        "dtypes: float64(2), int64(5), object(5)"
       ]
      }
     ],
     "prompt_number": 5
    },
    {
     "cell_type": "markdown",
     "metadata": {},
     "source": [
      "**Q2. What is the overall survival rate? **\n"
     ]
    },
    {
     "cell_type": "markdown",
     "metadata": {},
     "source": [
      "       Compute & Printout the result of mean of every numeric column"
     ]
    },
    {
     "cell_type": "code",
     "collapsed": false,
     "input": [
      "data.mean()"
     ],
     "language": "python",
     "metadata": {},
     "outputs": [
      {
       "metadata": {},
       "output_type": "pyout",
       "prompt_number": 14,
       "text": [
        "PassengerId    446.000000\n",
        "Survived         0.383838\n",
        "Pclass           2.308642\n",
        "Age             29.699118\n",
        "SibSp            0.523008\n",
        "Parch            0.381594\n",
        "Fare            32.204208\n",
        "dtype: float64"
       ]
      }
     ],
     "prompt_number": 14
    },
    {
     "cell_type": "markdown",
     "metadata": {},
     "source": [
      "Approach1 : Compute the sum of the column 'Survive'"
     ]
    },
    {
     "cell_type": "code",
     "collapsed": false,
     "input": [
      "data['Survived'].sum()"
     ],
     "language": "python",
     "metadata": {},
     "outputs": [
      {
       "metadata": {},
       "output_type": "pyout",
       "prompt_number": 20,
       "text": [
        "342"
       ]
      }
     ],
     "prompt_number": 20
    },
    {
     "cell_type": "markdown",
     "metadata": {},
     "source": [
      "To calculate the overall Survival rate:\n",
      "    => Divide the number of Survivors by the total number of Passengers"
     ]
    },
    {
     "cell_type": "code",
     "collapsed": false,
     "input": [
      "data['Survived'].sum()/float(data['Survived'].count())"
     ],
     "language": "python",
     "metadata": {},
     "outputs": [
      {
       "metadata": {},
       "output_type": "pyout",
       "prompt_number": 98,
       "text": [
        "0.38383838383838381"
       ]
      }
     ],
     "prompt_number": 98
    },
    {
     "cell_type": "markdown",
     "metadata": {},
     "source": [
      "To calculate the overall Survival rate by using the function mean() directly"
     ]
    },
    {
     "cell_type": "code",
     "collapsed": false,
     "input": [
      "data['Survived'].mean()"
     ],
     "language": "python",
     "metadata": {},
     "outputs": [
      {
       "metadata": {},
       "output_type": "pyout",
       "prompt_number": 99,
       "text": [
        "0.38383838383838381"
       ]
      }
     ],
     "prompt_number": 99
    },
    {
     "cell_type": "markdown",
     "metadata": {},
     "source": [
      "**Q3. How many male passengers were onboard?** \n",
      "\n",
      "**Q5. What is the overall survival rate of male passengers?** \n",
      "\n"
     ]
    },
    {
     "cell_type": "code",
     "collapsed": false,
     "input": [
      "# Assign the filter for Male Passengers as a List\n",
      "male = data['Sex'] == 'male'\n",
      "\n",
      "print \"Count of All Passengers:  \" + str(male.count())\n",
      "print \"Count of Male Passengers:  \" + str(male.sum())\n",
      "print \"Mean of Male Passengers:  \" + str(male.mean())\n",
      "print \"Percentage of Male Passengers:  \" + str(round(male.mean(),3)*100) + '%'\n",
      "#print \"---------------------------------------------------------\"\n",
      "#print male.info()  ------> it's wrong because \"male\" is a list of TRUE/FALSE and not dataframe anymore\n",
      "#print male         ------> it's a valid statement\n",
      "\n",
      "##====== this is one way to build a new table with criteria to source data from another table ========\n",
      "male_set1 = data[data['Sex'] == 'male'] \n",
      "#print \"male_set1\" \n",
      "#print male_set1.head()\n",
      "\n",
      "##====== this is the other way to build a new table with criteria to source data from another table ========\n",
      "male = data['Sex'] == 'male'\n",
      "male_set2 = data[male] \n",
      "#print \"male_set2\" \n",
      "#print male_set2.head()\n",
      "\n",
      "print \"---------------------------------------------------------\"\n",
      "##====== this is one way to build a new table with criteria to source data from another table ========\n",
      "male_survived = data[male]['Survived']\n",
      "print \"Count of All Male Passengers:  \" + str(male_survived.count())\n",
      "print \"Count of All Survived Male Passengers:  \" + str(male_survived.sum())\n",
      "print \"Survival Rate of Male Passengers:  \" + str(male_survived.mean() )\n",
      "print \"Survival Rate of Male Passengers:  \" + str(round(male_survived.mean()*100,2)) + '%'\n",
      "\n",
      "##====== this is the other way to build a new table with criteria to source data from another table ========\n",
      "#print \"*** *** *** \"\n",
      "#print \"Count of All Male Passengers:  \" + str(data[male]['Survived'].count())\n",
      "#print \"Count of All Survived Male Passengers:  \" + str(data[male]['Survived'].sum())\n",
      "#print \"Survival Rate of Male Passengers:  \" + str(data[male]['Survived'].mean() )\n",
      "\n"
     ],
     "language": "python",
     "metadata": {},
     "outputs": [
      {
       "output_type": "stream",
       "stream": "stdout",
       "text": [
        "Count of All Passengers:  891\n",
        "Count of Male Passengers:  577\n",
        "Mean of Male Passengers:  0.64758698092\n",
        "Percentage of Male Passengers:  64.8%\n",
        "---------------------------------------------------------\n",
        "Count of All Male Passengers:  577\n",
        "Count of All Survived Male Passengers:  109\n",
        "Survival Rate of Male Passengers:  0.188908145581\n",
        "Survival Rate of Male Passengers:  18.89%\n"
       ]
      }
     ],
     "prompt_number": 8
    },
    {
     "cell_type": "markdown",
     "metadata": {},
     "source": [
      "**Q4. How many female passengers were onboard? **\n",
      "\n",
      "**Q6. What is the overall survival rate of female passengers?** \n",
      "\n"
     ]
    },
    {
     "cell_type": "code",
     "collapsed": false,
     "input": [
      "# Assign the filter for Female Passengers as a List\n",
      "female = data['Sex'] == 'female'\n",
      "\n",
      "print \"Count of All Passengers:  \" + str(female.count())\n",
      "print \"Count of Female Passengers:  \" + str(female.sum())\n",
      "print \"Mean of Female Passengers:  \" + str(female.mean())\n",
      "print \"Percentage of Female Passengers:  \" + str(round(female.mean(),3)*100) + '%'\n",
      "#print \"---------------------------------------------------------\"\n",
      "#print female.info()  ------> it's wrong because \"male\" is a list of TRUE/FALSE and not dataframe anymore\n",
      "#print female         ------> it's a valid statement\n",
      "\n",
      "##====== this is one way to build a new table with criteria to source data from another table ========\n",
      "female_set1 = data[data['Sex'] == 'female'] \n",
      "#print \"female_set1\" \n",
      "#print female_set1.head()\n",
      "\n",
      "##====== this is the other way to build a new table with criteria to source data from another table ========\n",
      "female = data['Sex'] == 'female'\n",
      "female_set2 = data[female] \n",
      "#print \"female_set2\" \n",
      "#print female_set2.head()\n",
      "\n",
      "print \"---------------------------------------------------------\"\n",
      "##====== this is one way to build a new table with criteria to source data from another table ========\n",
      "female_survived = data[female]['Survived']\n",
      "print \"Count of All Female Passengers:  \" + str(female_survived.count())\n",
      "print \"Count of All Survived Female Passengers:  \" + str(female_survived.sum())\n",
      "print \"Survival Rate of Female Passengers:  \" + str(female_survived.mean() )\n",
      "print \"Survival Rate of Female Passengers:  \" + str(round(female_survived.mean()*100,2)) + '%'\n",
      "\n",
      "##====== this is the other way to build a new table with criteria to source data from another table ========\n",
      "#print \"*** *** *** \"\n",
      "#print \"Count of All Female Passengers:  \" + str(data[female]['Survived'].count())\n",
      "#print \"Count of All Survived Female Passengers:  \" + str(data[female]['Survived'].sum())\n",
      "#print \"Survival Rate of Female Passengers:  \" + str(data[female]['Survived'].mean() )\n",
      "\n"
     ],
     "language": "python",
     "metadata": {},
     "outputs": [
      {
       "output_type": "stream",
       "stream": "stdout",
       "text": [
        "Count of All Passengers:  891\n",
        "Count of Female Passengers:  314\n",
        "Mean of Female Passengers:  0.35241301908\n",
        "Percentage of Female Passengers:  35.2%\n",
        "---------------------------------------------------------\n",
        "Count of All Female Passengers:  314\n",
        "Count of All Survived Female Passengers:  233\n",
        "Survival Rate of Female Passengers:  0.742038216561\n",
        "Survival Rate of Female Passengers:  74.2%\n"
       ]
      }
     ],
     "prompt_number": 10
    },
    {
     "cell_type": "markdown",
     "metadata": {},
     "source": [
      "**Q7. What is the average age of all passengers onboard? **\n",
      "\n",
      "\n"
     ]
    },
    {
     "cell_type": "code",
     "collapsed": false,
     "input": [
      "print \"Count of Passengers : \" + str(len(data['Age']))\n",
      "print \"Count of Passengers with Age info : \" + str(data['Age'].count())\n",
      "print \"Sum of Passengers' Age  : \" + str(data['Age'].sum())\n",
      "print \"Average Age : \" + str(data['Age'].mean())\n"
     ],
     "language": "python",
     "metadata": {},
     "outputs": [
      {
       "output_type": "stream",
       "stream": "stdout",
       "text": [
        "Count of Passengers : 891\n",
        "Count of Passengers with Age info : 714\n",
        "Sum of Passengers' Age  : 21205.17\n",
        "Average Age : 29.6991176471\n"
       ]
      }
     ],
     "prompt_number": 125
    },
    {
     "cell_type": "markdown",
     "metadata": {},
     "source": [
      "**Q7a. How did you calculate this average age? **\n"
     ]
    },
    {
     "cell_type": "code",
     "collapsed": false,
     "input": [
      "print \"Average Age (method1): \" + str(data['Age'].mean())\n",
      "print \"Average Age (method2): \" + str(data['Age'].sum()/float(data['Age'].count()))\n"
     ],
     "language": "python",
     "metadata": {},
     "outputs": [
      {
       "output_type": "stream",
       "stream": "stdout",
       "text": [
        "Average Age (method1): 29.6991176471\n",
        "Average Age (method2): 29.6991176471\n"
       ]
      }
     ],
     "prompt_number": 126
    },
    {
     "cell_type": "markdown",
     "metadata": {},
     "source": [
      "**Q7b. Did you encounter any problems with this calculation?** \n"
     ]
    },
    {
     "cell_type": "code",
     "collapsed": false,
     "input": [
      "# No, but not all passengers have age info"
     ],
     "language": "python",
     "metadata": {},
     "outputs": []
    },
    {
     "cell_type": "markdown",
     "metadata": {},
     "source": [
      "**Q7c. If so, how did you address any problems? **"
     ]
    },
    {
     "cell_type": "code",
     "collapsed": false,
     "input": [
      "# it's solve by making sure the average calculation is not including passengers without age info \n",
      "# but mean() function has already taken care of it"
     ],
     "language": "python",
     "metadata": {},
     "outputs": []
    },
    {
     "cell_type": "markdown",
     "metadata": {},
     "source": [
      "**Q8. What is the average age of passengers who survived?** \n"
     ]
    },
    {
     "cell_type": "code",
     "collapsed": false,
     "input": [
      "# the average is 29.7"
     ],
     "language": "python",
     "metadata": {},
     "outputs": []
    },
    {
     "cell_type": "markdown",
     "metadata": {},
     "source": [
      "**Q9. What is the average age of passengers who did not survive?** \n"
     ]
    },
    {
     "cell_type": "code",
     "collapsed": false,
     "input": [
      "no_Sur = data['Survived'] == 0\n",
      "print \"Count of Passengers who did not survive             : \" + str (len(data[no_Sur]['Age']))  \n",
      "print \"Count of Passengers who did not survive with Age    : \" + str (data[no_Sur]['Age'].count())  \n",
      "print \"Count of Passengers who did not survive without Age : \" + str (len(data[no_Sur]['Age'])-data[no_Sur]['Age'].count())  \n",
      "print \"Total ages of Passengers who did not survive     : \" + str (data[no_Sur]['Age'].sum())  \n",
      "print \"Average age of Passengers who did not survive (way1) : \" + str (data[no_Sur]['Age'].mean())  \n",
      "print \"Average age of Passengers who did not survive (way2) : \" + str (data[no_Sur]['Age'].sum()/float(data[no_Sur]['Age'].count()))  \n",
      "\n"
     ],
     "language": "python",
     "metadata": {},
     "outputs": [
      {
       "output_type": "stream",
       "stream": "stdout",
       "text": [
        "Count of Passengers who did not survive             : 549\n",
        "Count of Passengers who did not survive with Age    : 424\n",
        "Count of Passengers who did not survive without Age : 125\n",
        "Total ages of Passengers who did not survive     : 12985.5\n",
        "Average age of Passengers who did not survive (way1) : 30.6261792453\n",
        "Average age of Passengers who did not survive (way2) : 30.6261792453\n"
       ]
      }
     ],
     "prompt_number": 133
    },
    {
     "cell_type": "markdown",
     "metadata": {},
     "source": [
      "*Bonus :: Average age for Survived passengers"
     ]
    },
    {
     "cell_type": "code",
     "collapsed": false,
     "input": [
      "do_Sur = data['Survived'] == 1\n",
      "print \"Count of Passengers who did survive             : \" + str (len(data[do_Sur]['Age']))  \n",
      "print \"Count of Passengers who did survive with Age    : \" + str (data[do_Sur]['Age'].count())  \n",
      "print \"Count of Passengers who did survive without Age : \" + str (len(data[do_Sur]['Age'])-data[do_Sur]['Age'].count())  \n",
      "print \"Total ages of Passengers who did survive     : \" + str (data[do_Sur]['Age'].sum())  \n",
      "print \"Average age of Passengers who did survive (way1) : \" + str (data[do_Sur]['Age'].mean())  \n",
      "print \"Average age of Passengers who did survive (way2) : \" + str (data[do_Sur]['Age'].sum()/float(data[do_Sur]['Age'].count()))  \n"
     ],
     "language": "python",
     "metadata": {},
     "outputs": []
    },
    {
     "cell_type": "code",
     "collapsed": false,
     "input": [
      "print \"Count of Passengers              : \" + str (len(data['Age']))  \n",
      "print \"Count of Passengers with Age     : \" + str (data['Age'].count())  \n",
      "print \"Count of Passengers without Age  : \" + str (len(data['Age'])-data['Age'].count())  \n",
      "print \"Percentage of Passengers without Age  : \" + str ( (len(data['Age']) - data['Age'].count() ) / float(len(data['Age'])) )  \n",
      "\n",
      "print \"Total ages of Passengers         : \" + str (data['Age'].sum())  \n",
      "print \"Average age of Passengers (way1) : \" + str (data['Age'].mean())  \n",
      "print \"Average age of Passengers (way2) : \" + str (data['Age'].sum()/float(data['Age'].count()))  \n"
     ],
     "language": "python",
     "metadata": {},
     "outputs": [
      {
       "output_type": "stream",
       "stream": "stdout",
       "text": [
        "Count of Passengers              : 891\n",
        "Count of Passengers with Age     : 714\n",
        "Count of Passengers without Age  : 177\n",
        "Percentage of Passengers without Age  : 0.198653198653\n",
        "Total ages of Passengers         : 21205.17\n",
        "Average age of Passengers (way1) : 29.6991176471\n",
        "Average age of Passengers (way2) : 29.6991176471\n"
       ]
      }
     ],
     "prompt_number": 142
    },
    {
     "cell_type": "markdown",
     "metadata": {},
     "source": [
      "**Q10. At this (early) point in our analysis, what might you infer about any patterns you are seeing?** \n"
     ]
    },
    {
     "cell_type": "markdown",
     "metadata": {},
     "source": [
      "####   Average age (28) of the survivors is younger than the Average age (30) of the non-survivors \n",
      "####   35% female passengers vs 65% male passengers\n",
      "####   The survivor rate for female is 74% while the survivor rate for male is only 19%\n",
      "####       => the rescue might go to female first then male. Also they might rescue the young first then old.\n",
      "####   However, there is no age info for almost 20% passengers so the result may be very different if those 20% got filled."
     ]
    },
    {
     "cell_type": "markdown",
     "metadata": {},
     "source": [
      "**Q11. How many passengers are in each of the three classes of service (e.g. First, Second, Third?) **\n"
     ]
    },
    {
     "cell_type": "code",
     "collapsed": false,
     "input": [
      "data.info()"
     ],
     "language": "python",
     "metadata": {},
     "outputs": [
      {
       "output_type": "stream",
       "stream": "stdout",
       "text": [
        "<class 'pandas.core.frame.DataFrame'>\n",
        "Int64Index: 891 entries, 0 to 890\n",
        "Data columns (total 12 columns):\n",
        "PassengerId    891 non-null int64\n",
        "Survived       891 non-null int64\n",
        "Pclass         891 non-null int64\n",
        "Name           891 non-null object\n",
        "Sex            891 non-null object\n",
        "Age            714 non-null float64\n",
        "SibSp          891 non-null int64\n",
        "Parch          891 non-null int64\n",
        "Ticket         891 non-null object\n",
        "Fare           891 non-null float64\n",
        "Cabin          204 non-null object\n",
        "Embarked       889 non-null object\n",
        "dtypes: float64(2), int64(5), object(5)"
       ]
      }
     ],
     "prompt_number": 144
    },
    {
     "cell_type": "code",
     "collapsed": false,
     "input": [
      "FirstClass=data[data['Pclass']==1].count()\n",
      "SecondClass=data[data['Pclass']==2].count()\n",
      "ThirdClass=data[data['Pclass']==3].count()\n",
      "print \"Total no. of Passengers is              : \" + str(len(data))\n",
      "print \"Total no. of First-class Passengers is  : \" + str(FirstClass['Pclass'])\n",
      "print \"Total no. of Second-class Passengers is : \" + str(SecondClass['Pclass'])\n",
      "print \"Total no. of Third-class Passengers is  : \" + str(ThirdClass['Pclass'])\n",
      "\n"
     ],
     "language": "python",
     "metadata": {},
     "outputs": [
      {
       "output_type": "stream",
       "stream": "stdout",
       "text": [
        "Total no. of Passengers is              : 891\n",
        "Total no. of First-class Passengers is  : 216\n",
        "Total no. of Second-class Passengers is : 184\n",
        "Total no. of Third-class Passengers is  : 491\n"
       ]
      }
     ],
     "prompt_number": 170
    },
    {
     "cell_type": "markdown",
     "metadata": {},
     "source": [
      "**Q12. What is the survival rate for passengers in each of the three classes of service? **\n"
     ]
    },
    {
     "cell_type": "code",
     "collapsed": false,
     "input": [
      "Survivors=data[data['Survived']==1]\n",
      "Class_1st=data[data['Pclass']==1]\n",
      "Class_1st_Sur=Class_1st[Class_1st['Survived']==1]\n",
      "Class_2nd=data[data['Pclass']==2]\n",
      "Class_2nd_Sur=Class_2nd[Class_2nd['Survived']==1]\n",
      "Class_3rd=data[data['Pclass']==3]\n",
      "Class_3rd_Sur=Class_3rd[Class_3rd['Survived']==1]\n",
      "\n",
      "print \"Total no. of Survived Passengers is               : \" + str(len(Survivors)) \n",
      "print \"Total no. of Survived First-class Passengers is   : \" + str(Class_1st_Sur['Pclass'].count())\n",
      "print \"Total no. of Survived Second-class Passengers is  :  \" + str(Class_2nd_Sur['Pclass'].count())\n",
      "print \"Total no. of Survived Third-class Passengers is   : \" + str(Class_3rd_Sur['Pclass'].count())\n",
      "\n",
      "print \"Survivor-rate of First-class Passengers is  : \" + str( round(Class_1st_Sur['Pclass'].count() / float(Class_1st['Pclass'].count()),2))\n",
      "print \"Survivor-rate of Second-class Passengers is : \" + str( round(Class_2nd_Sur['Pclass'].count() / float(Class_2nd['Pclass'].count()),2))\n",
      "print \"Survivor-rate of Third-class Passengers is  : \" + str( round(Class_3rd_Sur['Pclass'].count() / float(Class_3rd['Pclass'].count()),2))\n",
      "\n"
     ],
     "language": "python",
     "metadata": {},
     "outputs": [
      {
       "output_type": "stream",
       "stream": "stdout",
       "text": [
        "Total no. of Survived Passengers is               : 342\n",
        "Total no. of Survived First-class Passengers is   : 136\n",
        "Total no. of Survived Second-class Passengers is  :  87\n",
        "Total no. of Survived Third-class Passengers is   : 119\n",
        "Survivor-rate of First-class Passengers is  : 0.63\n",
        "Survivor-rate of Second-class Passengers is : 0.47\n",
        "Survivor-rate of Third-class Passengers is  : 0.24\n"
       ]
      }
     ],
     "prompt_number": 190
    },
    {
     "cell_type": "markdown",
     "metadata": {},
     "source": [
      "**Q13. Continuing with 10, what else might you conclude? **\n"
     ]
    },
    {
     "cell_type": "markdown",
     "metadata": {},
     "source": [
      "#### First class has much higher Survival rate at 63% then second class decline to 47% \n",
      "#### and third class further decline to 24%.\n",
      "#### There must be some code to rescure the 1st class passenger first then second and third\n",
      "#### OR\n",
      "#### the 1st class rich people have more access to get rescued like money or power\n",
      "#### ________________________________________________________________________________\n",
      "\n",
      "\n",
      "\n"
     ]
    },
    {
     "cell_type": "markdown",
     "metadata": {},
     "source": [
      "**Q14. Last, if we were to build a predictive model, which features in the data do you think we should **\n",
      "**     include in the model and which can we leave out? Why?** \n"
     ]
    },
    {
     "cell_type": "markdown",
     "metadata": {},
     "source": [
      "####If we want to build a predictive model,\n",
      "####the features in the data we should be included are :\n",
      "####           (1)  Location of the bedroom (near the head or tail of the ship)\n",
      "####           (2)  Floor of the bedroom\n",
      "####           (3)  Distance from the closest Lifeguard facilities\n",
      "####           (4)  Distance from the Windows\n",
      "####           (5)  Health status of a passenger\n",
      "####           (6)  Is any Relative or Friends of a passenger on board\n",
      "####           (7)  Time between Rescued time and Accident Event Started\n",
      "####           (8)  Is passenger or crew member \n",
      "####           (9)  Education background of a passenger\n",
      "####           (10) Occupation of a passenger\n",
      "####           (11) Height & Weight of a passenger\n",
      "####           (12) Disability status of a passenger (Deaf, blinded, can't walk, cant speak....etc)\n",
      "####           (13) Is a part of a group or organization) of a passenger on board\n",
      "####           (14) A passenger use any mobile communication devices (thru the Ship's satellite connection) ?\n",
      "####           (15) Major Mode of communication of a passenger\n",
      "####\n",
      "####===========================================================\n",
      "####  Data to be removed :  None but can be further improved by getting better values and fewer missing values\n",
      "\n",
      "\n",
      "\n"
     ]
    },
    {
     "cell_type": "code",
     "collapsed": false,
     "input": [
      "data.info()"
     ],
     "language": "python",
     "metadata": {},
     "outputs": [
      {
       "output_type": "stream",
       "stream": "stdout",
       "text": [
        "<class 'pandas.core.frame.DataFrame'>\n",
        "Int64Index: 891 entries, 0 to 890\n",
        "Data columns (total 12 columns):\n",
        "PassengerId    891 non-null int64\n",
        "Survived       891 non-null int64\n",
        "Pclass         891 non-null int64\n",
        "Name           891 non-null object\n",
        "Sex            891 non-null object\n",
        "Age            714 non-null float64\n",
        "SibSp          891 non-null int64\n",
        "Parch          891 non-null int64\n",
        "Ticket         891 non-null object\n",
        "Fare           891 non-null float64\n",
        "Cabin          204 non-null object\n",
        "Embarked       889 non-null object\n",
        "dtypes: float64(2), int64(5), object(5)"
       ]
      }
     ],
     "prompt_number": 192
    },
    {
     "cell_type": "code",
     "collapsed": false,
     "input": [
      "#-------------- End ------------------ ##"
     ],
     "language": "python",
     "metadata": {},
     "outputs": []
    }
   ],
   "metadata": {}
  }
 ]
}